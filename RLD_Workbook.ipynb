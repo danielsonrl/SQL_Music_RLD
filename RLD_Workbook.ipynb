{
 "cells": [
  {
   "cell_type": "markdown",
   "metadata": {},
   "source": [
    "## Project Mission"
   ]
  },
  {
   "cell_type": "markdown",
   "metadata": {},
   "source": [
    "As a data analyst, I am given a database that is comprisied of several music artists, albums, and tracks.  I have been tasked with answering questions for a record label about which music should be appropriate to add to their music store.  To analyze this, I have uploaded the database as a sqlite file and plan to put my SQL skills to the test.  This project will demonstrate my ability to join muliple tables together, use subqueries, and build aggregate functions."
   ]
  },
  {
   "cell_type": "code",
   "execution_count": 1,
   "metadata": {},
   "outputs": [],
   "source": [
    "%%capture\n",
    "%load_ext sql\n",
    "%sql sqlite:///Chinook.sqlite"
   ]
  },
  {
   "cell_type": "markdown",
   "metadata": {},
   "source": [
    "The record label wants me to analyze which type of music is popular in the USA.  To begin, I will start by familiarizing myself with their database.  Using an inner join, I will retrieve all the customers in the USA and their total amount spent on music purchases."
   ]
  },
  {
   "cell_type": "code",
   "execution_count": 2,
   "metadata": {},
   "outputs": [
    {
     "name": "stdout",
     "output_type": "stream",
     "text": [
      " * sqlite:///Chinook.sqlite\n",
      "Done.\n"
     ]
    },
    {
     "data": {
      "text/html": [
       "<table>\n",
       "    <tr>\n",
       "        <th>CustomerId</th>\n",
       "        <th>FirstName</th>\n",
       "        <th>LastName</th>\n",
       "        <th>Country</th>\n",
       "        <th>Total_Spent</th>\n",
       "    </tr>\n",
       "    <tr>\n",
       "        <td>16</td>\n",
       "        <td>Frank</td>\n",
       "        <td>Harris</td>\n",
       "        <td>USA</td>\n",
       "        <td>$37.62</td>\n",
       "    </tr>\n",
       "    <tr>\n",
       "        <td>17</td>\n",
       "        <td>Jack</td>\n",
       "        <td>Smith</td>\n",
       "        <td>USA</td>\n",
       "        <td>$39.62</td>\n",
       "    </tr>\n",
       "    <tr>\n",
       "        <td>18</td>\n",
       "        <td>Michelle</td>\n",
       "        <td>Brooks</td>\n",
       "        <td>USA</td>\n",
       "        <td>$37.62</td>\n",
       "    </tr>\n",
       "    <tr>\n",
       "        <td>19</td>\n",
       "        <td>Tim</td>\n",
       "        <td>Goyer</td>\n",
       "        <td>USA</td>\n",
       "        <td>$38.62</td>\n",
       "    </tr>\n",
       "    <tr>\n",
       "        <td>20</td>\n",
       "        <td>Dan</td>\n",
       "        <td>Miller</td>\n",
       "        <td>USA</td>\n",
       "        <td>$39.62</td>\n",
       "    </tr>\n",
       "    <tr>\n",
       "        <td>21</td>\n",
       "        <td>Kathy</td>\n",
       "        <td>Chase</td>\n",
       "        <td>USA</td>\n",
       "        <td>$37.62</td>\n",
       "    </tr>\n",
       "    <tr>\n",
       "        <td>22</td>\n",
       "        <td>Heather</td>\n",
       "        <td>Leacock</td>\n",
       "        <td>USA</td>\n",
       "        <td>$39.62</td>\n",
       "    </tr>\n",
       "    <tr>\n",
       "        <td>23</td>\n",
       "        <td>John</td>\n",
       "        <td>Gordon</td>\n",
       "        <td>USA</td>\n",
       "        <td>$37.62</td>\n",
       "    </tr>\n",
       "    <tr>\n",
       "        <td>24</td>\n",
       "        <td>Frank</td>\n",
       "        <td>Ralston</td>\n",
       "        <td>USA</td>\n",
       "        <td>$43.62</td>\n",
       "    </tr>\n",
       "    <tr>\n",
       "        <td>25</td>\n",
       "        <td>Victor</td>\n",
       "        <td>Stevens</td>\n",
       "        <td>USA</td>\n",
       "        <td>$42.62</td>\n",
       "    </tr>\n",
       "    <tr>\n",
       "        <td>26</td>\n",
       "        <td>Richard</td>\n",
       "        <td>Cunningham</td>\n",
       "        <td>USA</td>\n",
       "        <td>$47.62</td>\n",
       "    </tr>\n",
       "    <tr>\n",
       "        <td>27</td>\n",
       "        <td>Patrick</td>\n",
       "        <td>Gray</td>\n",
       "        <td>USA</td>\n",
       "        <td>$37.62</td>\n",
       "    </tr>\n",
       "    <tr>\n",
       "        <td>28</td>\n",
       "        <td>Julia</td>\n",
       "        <td>Barnett</td>\n",
       "        <td>USA</td>\n",
       "        <td>$43.62</td>\n",
       "    </tr>\n",
       "</table>"
      ],
      "text/plain": [
       "[(16, 'Frank', 'Harris', 'USA', '$37.62'),\n",
       " (17, 'Jack', 'Smith', 'USA', '$39.62'),\n",
       " (18, 'Michelle', 'Brooks', 'USA', '$37.62'),\n",
       " (19, 'Tim', 'Goyer', 'USA', '$38.62'),\n",
       " (20, 'Dan', 'Miller', 'USA', '$39.62'),\n",
       " (21, 'Kathy', 'Chase', 'USA', '$37.62'),\n",
       " (22, 'Heather', 'Leacock', 'USA', '$39.62'),\n",
       " (23, 'John', 'Gordon', 'USA', '$37.62'),\n",
       " (24, 'Frank', 'Ralston', 'USA', '$43.62'),\n",
       " (25, 'Victor', 'Stevens', 'USA', '$42.62'),\n",
       " (26, 'Richard', 'Cunningham', 'USA', '$47.62'),\n",
       " (27, 'Patrick', 'Gray', 'USA', '$37.62'),\n",
       " (28, 'Julia', 'Barnett', 'USA', '$43.62')]"
      ]
     },
     "execution_count": 2,
     "metadata": {},
     "output_type": "execute_result"
    }
   ],
   "source": [
    "%%sql\n",
    "SELECT c.CustomerId, c.FirstName, c.LastName, c.Country, \"$\" || \"\" || SUM(i.Total) AS Total_Spent\n",
    "    FROM Customer c\n",
    "    INNER JOIN Invoice i ON c.CustomerId = i.CustomerId\n",
    "    WHERE c.Country IN ('USA') \n",
    "    GROUP BY c.CustomerId;"
   ]
  },
  {
   "cell_type": "code",
   "execution_count": 3,
   "metadata": {},
   "outputs": [
    {
     "name": "stdout",
     "output_type": "stream",
     "text": [
      " * sqlite:///Chinook.sqlite\n",
      "Done.\n"
     ]
    },
    {
     "data": {
      "text/html": [
       "<table>\n",
       "    <tr>\n",
       "        <th>Country</th>\n",
       "        <th>Total_Spent</th>\n",
       "    </tr>\n",
       "    <tr>\n",
       "        <td>USA</td>\n",
       "        <td>$523.06</td>\n",
       "    </tr>\n",
       "</table>"
      ],
      "text/plain": [
       "[('USA', '$523.06')]"
      ]
     },
     "execution_count": 3,
     "metadata": {},
     "output_type": "execute_result"
    }
   ],
   "source": [
    "%%sql\n",
    "SELECT i.BillingCountry AS Country, \"$\" || \"\" || ROUND(SUM(i.Total), 2) AS Total_Spent\n",
    "    FROM Invoice i\n",
    "    WHERE i.BillingCountry IN ('USA')\n",
    "    GROUP BY i.BillingCountry;"
   ]
  },
  {
   "cell_type": "raw",
   "metadata": {},
   "source": [
    "American customers have spent as high as $47.62 and as low as $37.62 on music purchases.  The total amount spent on music purchases for American customers is $523.06."
   ]
  },
  {
   "cell_type": "markdown",
   "metadata": {},
   "source": [
    "Using this database, write a query shows the most popular genres in the USA based on the number of tracks sold."
   ]
  },
  {
   "cell_type": "code",
   "execution_count": 4,
   "metadata": {},
   "outputs": [
    {
     "name": "stdout",
     "output_type": "stream",
     "text": [
      " * sqlite:///Chinook.sqlite\n",
      "Done.\n"
     ]
    },
    {
     "data": {
      "text/html": [
       "<table>\n",
       "    <tr>\n",
       "        <th>Genre</th>\n",
       "        <th>Tracks_Sold</th>\n",
       "        <th>Percentage_Sold</th>\n",
       "    </tr>\n",
       "    <tr>\n",
       "        <td>Rock</td>\n",
       "        <td>157</td>\n",
       "        <td>0.3369%</td>\n",
       "    </tr>\n",
       "    <tr>\n",
       "        <td>Latin</td>\n",
       "        <td>91</td>\n",
       "        <td>0.1953%</td>\n",
       "    </tr>\n",
       "    <tr>\n",
       "        <td>Metal</td>\n",
       "        <td>64</td>\n",
       "        <td>0.1373%</td>\n",
       "    </tr>\n",
       "    <tr>\n",
       "        <td>Alternative &amp; Punk</td>\n",
       "        <td>50</td>\n",
       "        <td>0.1073%</td>\n",
       "    </tr>\n",
       "    <tr>\n",
       "        <td>Jazz</td>\n",
       "        <td>22</td>\n",
       "        <td>0.0472%</td>\n",
       "    </tr>\n",
       "</table>"
      ],
      "text/plain": [
       "[('Rock', 157, '0.3369%'),\n",
       " ('Latin', 91, '0.1953%'),\n",
       " ('Metal', 64, '0.1373%'),\n",
       " ('Alternative & Punk', 50, '0.1073%'),\n",
       " ('Jazz', 22, '0.0472%')]"
      ]
     },
     "execution_count": 4,
     "metadata": {},
     "output_type": "execute_result"
    }
   ],
   "source": [
    "%%sql\n",
    "WITH Tracks_Playlist AS\n",
    "   (\n",
    "    SELECT il.* FROM InvoiceLine il\n",
    "        INNER JOIN Invoice i on il.InvoiceId = i.InvoiceId\n",
    "        INNER JOIN Customer c on i.CustomerId = c.CustomerId\n",
    "        INNER JOIN Track t on t.TrackId = il.TrackId\n",
    "        INNER JOIN Genre g on g.GenreId = t.GenreId\n",
    "            WHERE c.Country = \"USA\"\n",
    "            AND g.Name <> \"Comedy\"\n",
    "            AND g.Name <> \"TV Shows\"\n",
    "            AND g.Name <> \"Drama\"\n",
    "   )\n",
    "\n",
    "SELECT\n",
    "    g.Name Genre,\n",
    "    COUNT(tp.InvoiceLineId) Tracks_Sold,\n",
    "    ROUND(CAST(COUNT(tp.InvoiceLineId) AS FLOAT) / (\n",
    "        SELECT COUNT(*) From Tracks_Playlist\n",
    "    ), 4) || \"%\" Percentage_Sold\n",
    "    \n",
    "FROM Tracks_Playlist tp\n",
    "    INNER JOIN Track t on t.TrackId = tp.TrackId\n",
    "    INNER JOIN Genre g on g.GenreId = t.GenreId\n",
    "        GROUP BY Genre\n",
    "        ORDER BY Tracks_Sold DESC\n",
    "        LIMIT 5;"
   ]
  },
  {
   "cell_type": "markdown",
   "metadata": {},
   "source": [
    "It appears Rock is overwhelmingly popular in this music store.  However, Latin has a sizable following as well."
   ]
  },
  {
   "cell_type": "markdown",
   "metadata": {},
   "source": [
    "Write a query that breaksdown the top album selling albums in the USA based on number of tracks sold within those albums."
   ]
  },
  {
   "cell_type": "code",
   "execution_count": 5,
   "metadata": {},
   "outputs": [
    {
     "name": "stdout",
     "output_type": "stream",
     "text": [
      " * sqlite:///Chinook.sqlite\n",
      "Done.\n"
     ]
    },
    {
     "data": {
      "text/html": [
       "<table>\n",
       "    <tr>\n",
       "        <th>Artist</th>\n",
       "        <th>Album</th>\n",
       "        <th>Genre</th>\n",
       "        <th>Tracks_Sold</th>\n",
       "        <th>Percentage_Sold</th>\n",
       "    </tr>\n",
       "    <tr>\n",
       "        <td>Caetano Veloso</td>\n",
       "        <td>Prenda Minha</td>\n",
       "        <td>Latin</td>\n",
       "        <td>11</td>\n",
       "        <td>0.0236%</td>\n",
       "    </tr>\n",
       "    <tr>\n",
       "        <td>Eric Clapton</td>\n",
       "        <td>Unplugged</td>\n",
       "        <td>Blues</td>\n",
       "        <td>11</td>\n",
       "        <td>0.0236%</td>\n",
       "    </tr>\n",
       "    <tr>\n",
       "        <td>Antônio Carlos Jobim</td>\n",
       "        <td>Chill: Brazil (Disc 2)</td>\n",
       "        <td>Latin</td>\n",
       "        <td>10</td>\n",
       "        <td>0.0215%</td>\n",
       "    </tr>\n",
       "    <tr>\n",
       "        <td>Amy Winehouse</td>\n",
       "        <td>Back to Black</td>\n",
       "        <td>R&amp;B/Soul</td>\n",
       "        <td>9</td>\n",
       "        <td>0.0193%</td>\n",
       "    </tr>\n",
       "    <tr>\n",
       "        <td>Green Day</td>\n",
       "        <td>International Superhits</td>\n",
       "        <td>Alternative &amp; Punk</td>\n",
       "        <td>8</td>\n",
       "        <td>0.0172%</td>\n",
       "    </tr>\n",
       "    <tr>\n",
       "        <td>Soundgarden</td>\n",
       "        <td>A-Sides</td>\n",
       "        <td>Rock</td>\n",
       "        <td>7</td>\n",
       "        <td>0.015%</td>\n",
       "    </tr>\n",
       "    <tr>\n",
       "        <td>U2</td>\n",
       "        <td>B-Sides 1980-1990</td>\n",
       "        <td>Rock</td>\n",
       "        <td>7</td>\n",
       "        <td>0.015%</td>\n",
       "    </tr>\n",
       "    <tr>\n",
       "        <td>Toquinho &amp; Vinícius</td>\n",
       "        <td>Vinícius De Moraes - Sem Limite</td>\n",
       "        <td>Bossa Nova</td>\n",
       "        <td>7</td>\n",
       "        <td>0.015%</td>\n",
       "    </tr>\n",
       "    <tr>\n",
       "        <td>Metallica</td>\n",
       "        <td>Black Album</td>\n",
       "        <td>Metal</td>\n",
       "        <td>6</td>\n",
       "        <td>0.0129%</td>\n",
       "    </tr>\n",
       "    <tr>\n",
       "        <td>Tim Maia</td>\n",
       "        <td>Serie Sem Limite (Disc 1)</td>\n",
       "        <td>Latin</td>\n",
       "        <td>6</td>\n",
       "        <td>0.0129%</td>\n",
       "    </tr>\n",
       "</table>"
      ],
      "text/plain": [
       "[('Caetano Veloso', 'Prenda Minha', 'Latin', 11, '0.0236%'),\n",
       " ('Eric Clapton', 'Unplugged', 'Blues', 11, '0.0236%'),\n",
       " ('Antônio Carlos Jobim', 'Chill: Brazil (Disc 2)', 'Latin', 10, '0.0215%'),\n",
       " ('Amy Winehouse', 'Back to Black', 'R&B/Soul', 9, '0.0193%'),\n",
       " ('Green Day', 'International Superhits', 'Alternative & Punk', 8, '0.0172%'),\n",
       " ('Soundgarden', 'A-Sides', 'Rock', 7, '0.015%'),\n",
       " ('U2', 'B-Sides 1980-1990', 'Rock', 7, '0.015%'),\n",
       " ('Toquinho & Vinícius', 'Vinícius De Moraes - Sem Limite', 'Bossa Nova', 7, '0.015%'),\n",
       " ('Metallica', 'Black Album', 'Metal', 6, '0.0129%'),\n",
       " ('Tim Maia', 'Serie Sem Limite (Disc 1)', 'Latin', 6, '0.0129%')]"
      ]
     },
     "execution_count": 5,
     "metadata": {},
     "output_type": "execute_result"
    }
   ],
   "source": [
    "%%sql\n",
    "WITH Tracks_Playlist AS\n",
    "   (\n",
    "    SELECT il.* FROM InvoiceLine il\n",
    "        INNER JOIN Invoice i on il.InvoiceId = i.InvoiceId\n",
    "        INNER JOIN Customer c on i.CustomerId = c.CustomerId\n",
    "        INNER JOIN Track t on t.TrackId = il.TrackId\n",
    "        INNER JOIN Genre g on g.GenreId = t.GenreId\n",
    "            WHERE c.Country = \"USA\"\n",
    "            AND g.Name <> \"Comedy\"\n",
    "            AND g.Name <> \"TV Shows\"\n",
    "            AND g.Name <> \"Drama\"\n",
    "   )\n",
    "\n",
    "SELECT\n",
    "    ar.Name Artist,\n",
    "    al.Title Album,\n",
    "    g.Name Genre,\n",
    "    COUNT(tp.InvoiceLineId) Tracks_Sold,\n",
    "    ROUND(CAST(COUNT(tp.InvoiceLineId) AS FLOAT) / (\n",
    "        SELECT COUNT(*) From Tracks_Playlist\n",
    "    ), 4) || \"%\" Percentage_Sold\n",
    "    \n",
    "FROM Tracks_Playlist tp\n",
    "    INNER JOIN Track t on t.TrackId = tp.TrackId\n",
    "    INNER JOIN Genre g on g.GenreId = t.GenreId\n",
    "    INNER JOIN Album al on al.AlbumId = t.AlbumId\n",
    "    INNER JOIN Artist ar on ar.ArtistId = al.ArtistId\n",
    "        GROUP BY Album\n",
    "        ORDER BY Tracks_Sold DESC\n",
    "        LIMIT 10;"
   ]
  },
  {
   "cell_type": "markdown",
   "metadata": {},
   "source": [
    "The customer have a heavy interest in Rock, Latin, and Metal genres.  The albums that had the most downloaded tracks were from artists Caetano Velosoand and Eric Clapton.  Based on this data, I would recommend the company to purchase \"Prenda Minha\" from Caetano Veloso, \"A-Sides\" from Soundgarden, and \"B-Sides 1980-1990\" from U2."
   ]
  },
  {
   "cell_type": "markdown",
   "metadata": {},
   "source": [
    "Write a query that shows the top selling sales support representatives within the company."
   ]
  },
  {
   "cell_type": "code",
   "execution_count": 6,
   "metadata": {},
   "outputs": [
    {
     "name": "stdout",
     "output_type": "stream",
     "text": [
      " * sqlite:///Chinook.sqlite\n",
      "Done.\n"
     ]
    },
    {
     "data": {
      "text/html": [
       "<table>\n",
       "    <tr>\n",
       "        <th>Employee</th>\n",
       "        <th>Position</th>\n",
       "        <th>Hire_Date</th>\n",
       "        <th>Total_Sales</th>\n",
       "    </tr>\n",
       "    <tr>\n",
       "        <td>Jane Peacock</td>\n",
       "        <td>Sales Support Agent</td>\n",
       "        <td>2002-04-01 00:00:00</td>\n",
       "        <td>$833.04</td>\n",
       "    </tr>\n",
       "    <tr>\n",
       "        <td>Margaret Park</td>\n",
       "        <td>Sales Support Agent</td>\n",
       "        <td>2003-05-03 00:00:00</td>\n",
       "        <td>$775.4</td>\n",
       "    </tr>\n",
       "    <tr>\n",
       "        <td>Steve Johnson</td>\n",
       "        <td>Sales Support Agent</td>\n",
       "        <td>2003-10-17 00:00:00</td>\n",
       "        <td>$720.16</td>\n",
       "    </tr>\n",
       "</table>"
      ],
      "text/plain": [
       "[('Jane Peacock', 'Sales Support Agent', '2002-04-01 00:00:00', '$833.04'),\n",
       " ('Margaret Park', 'Sales Support Agent', '2003-05-03 00:00:00', '$775.4'),\n",
       " ('Steve Johnson', 'Sales Support Agent', '2003-10-17 00:00:00', '$720.16')]"
      ]
     },
     "execution_count": 6,
     "metadata": {},
     "output_type": "execute_result"
    }
   ],
   "source": [
    "%%sql\n",
    "WITH Total_Sales AS\n",
    "    (\n",
    "     SELECT\n",
    "         i.CustomerId,\n",
    "         c.SupportRepId,\n",
    "         SUM(i.Total) AS Total\n",
    "     FROM Invoice i\n",
    "     INNER JOIN Customer c ON i.CustomerId = c.CustomerId\n",
    "     GROUP BY 1, 2\n",
    "    )\n",
    "\n",
    "SELECT\n",
    "    e.FirstName || \" \" || e.LastName Employee,\n",
    "    e.Title AS Position,\n",
    "    e.HireDate AS Hire_Date,\n",
    "    \"$\" || \"\" || (SUM(ts.Total)) AS Total_Sales\n",
    "FROM Total_Sales AS ts\n",
    "INNER JOIN employee AS e ON e.EmployeeId = ts.SupportRepId\n",
    "GROUP BY Employee;"
   ]
  },
  {
   "cell_type": "markdown",
   "metadata": {},
   "source": [
    "The data shows that although Jane Peacock has sold the most as a sales support agent.  However, Margaert Park has been the most productive agent because she was highered a year later and isn't far behind in Jane's total sales."
   ]
  },
  {
   "cell_type": "markdown",
   "metadata": {},
   "source": [
    "Analyzing the rest of the database, write a query that breaksdown the summary statistics and purchases of all customers around the world."
   ]
  },
  {
   "cell_type": "code",
   "execution_count": 7,
   "metadata": {},
   "outputs": [
    {
     "name": "stdout",
     "output_type": "stream",
     "text": [
      " * sqlite:///Chinook.sqlite\n",
      "Done.\n"
     ]
    },
    {
     "data": {
      "text/html": [
       "<table>\n",
       "    <tr>\n",
       "        <th>Country</th>\n",
       "        <th>Customers</th>\n",
       "        <th>Total_Sales</th>\n",
       "        <th>Avg_Order</th>\n",
       "        <th>Avg_Sales_Per_Customer</th>\n",
       "    </tr>\n",
       "    <tr>\n",
       "        <td>United Kingdom</td>\n",
       "        <td>3</td>\n",
       "        <td>$112.86</td>\n",
       "        <td>$5.37</td>\n",
       "        <td>$37.62</td>\n",
       "    </tr>\n",
       "    <tr>\n",
       "        <td>Germany</td>\n",
       "        <td>4</td>\n",
       "        <td>$156.48</td>\n",
       "        <td>$5.59</td>\n",
       "        <td>$39.12</td>\n",
       "    </tr>\n",
       "    <tr>\n",
       "        <td>Brazil</td>\n",
       "        <td>5</td>\n",
       "        <td>$190.1</td>\n",
       "        <td>$5.43</td>\n",
       "        <td>$38.02</td>\n",
       "    </tr>\n",
       "    <tr>\n",
       "        <td>France</td>\n",
       "        <td>5</td>\n",
       "        <td>$195.1</td>\n",
       "        <td>$5.57</td>\n",
       "        <td>$39.02</td>\n",
       "    </tr>\n",
       "    <tr>\n",
       "        <td>Canada</td>\n",
       "        <td>8</td>\n",
       "        <td>$303.96</td>\n",
       "        <td>$5.43</td>\n",
       "        <td>$38.0</td>\n",
       "    </tr>\n",
       "    <tr>\n",
       "        <td>USA</td>\n",
       "        <td>13</td>\n",
       "        <td>$523.06</td>\n",
       "        <td>$5.75</td>\n",
       "        <td>$40.24</td>\n",
       "    </tr>\n",
       "    <tr>\n",
       "        <td>Other</td>\n",
       "        <td>15</td>\n",
       "        <td>$604.3</td>\n",
       "        <td>$5.76</td>\n",
       "        <td>$40.29</td>\n",
       "    </tr>\n",
       "    <tr>\n",
       "        <td>India</td>\n",
       "        <td>2</td>\n",
       "        <td>$75.26</td>\n",
       "        <td>$5.79</td>\n",
       "        <td>$37.63</td>\n",
       "    </tr>\n",
       "    <tr>\n",
       "        <td>Portugal</td>\n",
       "        <td>2</td>\n",
       "        <td>$77.24</td>\n",
       "        <td>$5.52</td>\n",
       "        <td>$38.62</td>\n",
       "    </tr>\n",
       "    <tr>\n",
       "        <td>Czech Republic</td>\n",
       "        <td>2</td>\n",
       "        <td>$90.24</td>\n",
       "        <td>$6.45</td>\n",
       "        <td>$45.12</td>\n",
       "    </tr>\n",
       "</table>"
      ],
      "text/plain": [
       "[('United Kingdom', 3, '$112.86', '$5.37', '$37.62'),\n",
       " ('Germany', 4, '$156.48', '$5.59', '$39.12'),\n",
       " ('Brazil', 5, '$190.1', '$5.43', '$38.02'),\n",
       " ('France', 5, '$195.1', '$5.57', '$39.02'),\n",
       " ('Canada', 8, '$303.96', '$5.43', '$38.0'),\n",
       " ('USA', 13, '$523.06', '$5.75', '$40.24'),\n",
       " ('Other', 15, '$604.3', '$5.76', '$40.29'),\n",
       " ('India', 2, '$75.26', '$5.79', '$37.63'),\n",
       " ('Portugal', 2, '$77.24', '$5.52', '$38.62'),\n",
       " ('Czech Republic', 2, '$90.24', '$6.45', '$45.12')]"
      ]
     },
     "execution_count": 7,
     "metadata": {},
     "output_type": "execute_result"
    }
   ],
   "source": [
    "%%sql\n",
    "WITH other_countries AS\n",
    "    (\n",
    "     SELECT\n",
    "       CASE\n",
    "           WHEN (\n",
    "                 SELECT COUNT(*)\n",
    "                 FROM Customer\n",
    "                 WHERE Country = c.Country\n",
    "                ) = 1 THEN \"Other\"\n",
    "           ELSE c.Country\n",
    "       END AS Country,\n",
    "       c.CustomerId,\n",
    "       il.*\n",
    "     FROM InvoiceLine il\n",
    "     INNER JOIN Invoice i ON i.InvoiceId = il.InvoiceId\n",
    "     INNER JOIN Customer c ON c.CustomerId = i.CustomerId\n",
    "    )\n",
    "\n",
    "SELECT\n",
    "    Country,\n",
    "    Customers,\n",
    "    Total_Sales,\n",
    "    Avg_Order,\n",
    "    Avg_Sales_Per_Customer\n",
    "FROM\n",
    "    (\n",
    "    SELECT\n",
    "        Country,\n",
    "        COUNT(DISTINCT CustomerId) Customers,\n",
    "        \"$\" || \"\" || (ROUND(SUM(UnitPrice), 2)) Total_Sales,\n",
    "        \"$\" || \"\" || (ROUND(SUM(UnitPrice) / COUNT(DISTINCT CustomerId), 2)) Avg_Sales_Per_Customer,\n",
    "        \"$\" || \"\" || (ROUND(SUM(UnitPrice) / COUNT(DISTINCT InvoiceId), 2)) Avg_Order,\n",
    "        CASE\n",
    "            WHEN Country = \"Other\" THEN 1\n",
    "            ELSE 0\n",
    "        END AS Sort\n",
    "    FROM other_countries\n",
    "    GROUP BY Country\n",
    "    ORDER BY Total_Sales ASC\n",
    "    );"
   ]
  },
  {
   "cell_type": "raw",
   "metadata": {},
   "source": [
    "The USA has the most active customer base on this music store, followed by Canda.  France appears to be the most active customer base from Europe.  Czech Republic has the biggest spenders with an average individual order of $6.45.  Perhaps it would be wise to look to grow the customer base in the Czech Republic."
   ]
  },
  {
   "cell_type": "markdown",
   "metadata": {},
   "source": [
    "Management is trying to decide whether purchasing only the most popular tracks from music artists is better than purchasing the entire album.  Write a query that breaksdown how many customers actually bought the entire album.  "
   ]
  },
  {
   "cell_type": "code",
   "execution_count": 8,
   "metadata": {},
   "outputs": [
    {
     "name": "stdout",
     "output_type": "stream",
     "text": [
      " * sqlite:///Chinook.sqlite\n",
      "Done.\n"
     ]
    },
    {
     "data": {
      "text/html": [
       "<table>\n",
       "    <tr>\n",
       "        <th>Album_Purchase</th>\n",
       "        <th>Total_Invoices</th>\n",
       "        <th>Percentage</th>\n",
       "    </tr>\n",
       "    <tr>\n",
       "        <td>No</td>\n",
       "        <td>410</td>\n",
       "        <td>0.99515%</td>\n",
       "    </tr>\n",
       "    <tr>\n",
       "        <td>Yes</td>\n",
       "        <td>2</td>\n",
       "        <td>0.00485%</td>\n",
       "    </tr>\n",
       "</table>"
      ],
      "text/plain": [
       "[('No', 410, '0.99515%'), ('Yes', 2, '0.00485%')]"
      ]
     },
     "execution_count": 8,
     "metadata": {},
     "output_type": "execute_result"
    }
   ],
   "source": [
    "%%sql\n",
    "WITH original_track AS\n",
    "    (\n",
    "     SELECT\n",
    "         il.InvoiceId InvoiceId,\n",
    "         MIN(il.TrackId) OrigTrackId\n",
    "             FROM InvoiceLine il\n",
    "             GROUP BY InvoiceId\n",
    "    )\n",
    "\n",
    "SELECT album_purchase AS Album_Purchase,\n",
    "    COUNT(InvoiceId) AS Total_Invoices,\n",
    "    ROUND(CAST(count(InvoiceId) AS FLOAT) / (\n",
    "                                       SELECT COUNT(*) FROM Invoice\n",
    "                                      ), 5)  || \"%\" AS Percentage\n",
    "FROM\n",
    "    (\n",
    "    SELECT ot.*, CASE WHEN\n",
    "                 (\n",
    "                  SELECT t.TrackId FROM track t\n",
    "                  WHERE t.AlbumId = (\n",
    "                                      SELECT t2.AlbumId FROM track t2\n",
    "                                      WHERE t2.TrackId = ot.OrigTrackid\n",
    "                                     ) \n",
    "\n",
    "                  EXCEPT \n",
    "\n",
    "                  SELECT il2.TrackId FROM InvoiceLine il2\n",
    "                  WHERE il2.InvoiceId = ot.InvoiceId\n",
    "                 ) IS NULL\n",
    "                    \n",
    "                    AND\n",
    "                 (\n",
    "                  SELECT il2.TrackId FROM InvoiceLine il2\n",
    "                  WHERE il2.InvoiceId = ot.InvoiceId\n",
    "\n",
    "                  EXCEPT \n",
    "\n",
    "                  SELECT t.TrackId FROM track t\n",
    "                  WHERE t.AlbumId = (\n",
    "                                      SELECT t2.AlbumId FROM track t2\n",
    "                                      WHERE t2.TrackId = ot.OrigTrackId\n",
    "                                     ) \n",
    "                 ) IS NULL\n",
    "             THEN \"Yes\"\n",
    "             ELSE \"No\"\n",
    "         END AS \"Album_Purchase\"\n",
    "     FROM original_track ot\n",
    "    )\n",
    "GROUP BY album_purchase;"
   ]
  },
  {
   "cell_type": "raw",
   "metadata": {},
   "source": [
    "Wow!  Only 2 invoices show a purchase for an entire album.  It appears it will be in management's best interest to purchase only individual tracks."
   ]
  }
 ],
 "metadata": {
  "kernelspec": {
   "display_name": "Python 3",
   "language": "python",
   "name": "python3"
  },
  "language_info": {
   "codemirror_mode": {
    "name": "ipython",
    "version": 3
   },
   "file_extension": ".py",
   "mimetype": "text/x-python",
   "name": "python",
   "nbconvert_exporter": "python",
   "pygments_lexer": "ipython3",
   "version": "3.7.1"
  }
 },
 "nbformat": 4,
 "nbformat_minor": 2
}
